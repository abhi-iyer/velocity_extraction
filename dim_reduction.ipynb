{
 "cells": [
  {
   "cell_type": "code",
   "execution_count": null,
   "metadata": {},
   "outputs": [],
   "source": [
    "%load_ext autoreload\n",
    "%autoreload 2\n",
    "\n",
    "from imports import *\n",
    "from models import *\n",
    "from utils import *\n",
    "from data import *\n",
    "from configs import CONFIGS, EXP_CODES"
   ]
  },
  {
   "cell_type": "code",
   "execution_count": null,
   "metadata": {},
   "outputs": [],
   "source": [
    "'''\n",
    "load saved experiment\n",
    "'''\n",
    "\n",
    "\n",
    "config_name = 'freq'\n",
    "config = deepcopy(CONFIGS[config_name])\n",
    "\n",
    "train_dataset, test_dataset, train_loader, test_loader = get_dataset_dataloader(config)"
   ]
  },
  {
   "cell_type": "code",
   "execution_count": null,
   "metadata": {},
   "outputs": [],
   "source": [
    "'''\n",
    "generate random trajectory from test dataset\n",
    "'''\n",
    "\n",
    "\n",
    "trajectory, gt_vs = test_dataset.generate_sample_trajectory(length=1500)\n",
    "\n",
    "trajectory = trajectory.squeeze(dim=1)\n",
    "gt_velocities = np.array(gt_vs)\n",
    "colors = np.array(test_dataset.cmap(gt_vs))\n",
    "\n",
    "\n",
    "if gt_velocities.squeeze().ndim == 1:\n",
    "    gt_velocities = np.hstack((gt_velocities.reshape(-1, 1), np.zeros((gt_velocities.shape[0], 1))))"
   ]
  },
  {
   "cell_type": "code",
   "execution_count": null,
   "metadata": {},
   "outputs": [],
   "source": [
    "isomap_velocities = isomap_reduction(trajectory, reduced_dim=1)\n",
    "umap_velocities = umap_reduction(trajectory, reduced_dim=1)\n",
    "pca_velocities = pca_reduction(trajectory, reduced_dim=1)\n",
    "\n",
    "ae_velocities = ae_reduction(\n",
    "    tensor=trajectory,\n",
    "    config=deepcopy(CONFIGS[config_name + '_ae']), \n",
    "    model_code=EXP_CODES[config_name + '_ae'][0],\n",
    ")\n",
    "\n",
    "# mcnet_velocities = mcnet_reduction(\n",
    "#     tensor=trajectory,\n",
    "#     config=deepcopy(CONFIGS[config_name + '_mcnet']), \n",
    "#     model_code=EXP_CODES[config_name + '_mcnet'],\n",
    "# )"
   ]
  },
  {
   "cell_type": "code",
   "execution_count": null,
   "metadata": {},
   "outputs": [],
   "source": []
  },
  {
   "cell_type": "code",
   "execution_count": null,
   "metadata": {},
   "outputs": [],
   "source": [
    "isomap_error, transformed_isomap_velocities = compute_error_metric(\n",
    "    true=gt_velocities,\n",
    "    pred=isomap_velocities,\n",
    "    num_clusters=30,\n",
    "    show_knee_visualization=False,\n",
    ")\n",
    "\n",
    "#plotly_scatter(transformed_isomap_velocities, colors=colors, title=\"transformed isomap velocities, error: {:.4f}\".format(error))"
   ]
  },
  {
   "cell_type": "code",
   "execution_count": null,
   "metadata": {},
   "outputs": [],
   "source": [
    "umap_error, transformed_umap_velocities = compute_error_metric(\n",
    "    true=gt_velocities,\n",
    "    pred=umap_velocities,\n",
    "    num_clusters=30,\n",
    "    show_knee_visualization=False,\n",
    ")\n",
    "\n",
    "#plotly_scatter(transformed_umap_velocities, colors=colors, title=\"transformed umap velocities, error: {:.4f}\".format(error))"
   ]
  },
  {
   "cell_type": "code",
   "execution_count": null,
   "metadata": {},
   "outputs": [],
   "source": [
    "pca_error, transformed_pca_velocities = compute_error_metric(\n",
    "    true=gt_velocities,\n",
    "    pred=pca_velocities,\n",
    "    num_clusters=30,\n",
    "    show_knee_visualization=False,\n",
    ")\n",
    "\n",
    "#plotly_scatter(transformed_pca_velocities, colors=colors, title=\"transformed pca velocities, error: {:.4f}\".format(error))"
   ]
  },
  {
   "cell_type": "code",
   "execution_count": null,
   "metadata": {},
   "outputs": [],
   "source": [
    "ae_error, transformed_ae_velocities = compute_error_metric(\n",
    "    true=gt_velocities,\n",
    "    pred=ae_velocities,\n",
    "    num_clusters=30,\n",
    "    show_knee_visualization=False,\n",
    ")\n",
    "\n",
    "#plotly_scatter(transformed_ae_velocities, colors=colors, title=\"transformed ae velocities, error: {:.4f}\".format(error))"
   ]
  },
  {
   "cell_type": "code",
   "execution_count": null,
   "metadata": {},
   "outputs": [],
   "source": []
  },
  {
   "cell_type": "code",
   "execution_count": null,
   "metadata": {},
   "outputs": [],
   "source": [
    "plt.rcParams.update({'font.size': 22})\n",
    "\n",
    "plt.figure()\n",
    "\n",
    "plt.scatter(*transformed_umap_velocities.T, c=colors)\n",
    "\n",
    "ax = plt.gca()\n",
    "ax.set_xlim([-0.02, 0.02])\n",
    "ax.set_ylim([-0.02, 0.02])\n",
    "ax.set_xlabel('dim 1')\n",
    "ax.set_ylabel('dim 2')\n",
    "ax.set_title('UMAP Error: {:.2f}'.format(umap_error))\n",
    "\n",
    "ax.xaxis.set_tick_params(labelbottom=False)\n",
    "ax.yaxis.set_tick_params(labelleft=False)\n",
    "ax.set_xticks([])\n",
    "ax.set_yticks([])"
   ]
  },
  {
   "cell_type": "code",
   "execution_count": null,
   "metadata": {},
   "outputs": [],
   "source": [
    "plt.rcParams.update({'font.size': 22})\n",
    "\n",
    "plt.figure()\n",
    "\n",
    "plt.scatter(*transformed_isomap_velocities.T, c=colors)\n",
    "\n",
    "ax = plt.gca()\n",
    "ax.set_xlim([-0.02, 0.02])\n",
    "ax.set_ylim([-0.02, 0.02])\n",
    "ax.set_xlabel('dim 1')\n",
    "ax.set_ylabel('dim 2')\n",
    "ax.set_title('Isomap Error: {:.2f}'.format(isomap_error))\n",
    "\n",
    "ax.xaxis.set_tick_params(labelbottom=False)\n",
    "ax.yaxis.set_tick_params(labelleft=False)\n",
    "ax.set_xticks([])\n",
    "ax.set_yticks([])"
   ]
  },
  {
   "cell_type": "code",
   "execution_count": null,
   "metadata": {},
   "outputs": [],
   "source": [
    "plt.rcParams.update({'font.size': 22})\n",
    "\n",
    "plt.figure()\n",
    "\n",
    "plt.scatter(*transformed_ae_velocities.T, c=colors)\n",
    "\n",
    "ax = plt.gca()\n",
    "ax.set_xlim([-0.007, 0.007])\n",
    "ax.set_ylim([-0.02, 0.02])\n",
    "ax.set_xlabel('dim 1')\n",
    "ax.set_ylabel('dim 2')\n",
    "ax.set_title('Autoencoder Error: {:.2f}'.format(ae_error))\n",
    "\n",
    "ax.xaxis.set_tick_params(labelbottom=False)\n",
    "ax.yaxis.set_tick_params(labelleft=False)\n",
    "ax.set_xticks([])\n",
    "ax.set_yticks([])"
   ]
  },
  {
   "cell_type": "code",
   "execution_count": null,
   "metadata": {},
   "outputs": [],
   "source": []
  },
  {
   "cell_type": "code",
   "execution_count": null,
   "metadata": {},
   "outputs": [],
   "source": [
    "plt.rcParams.update({'font.size': 22})\n",
    "\n",
    "fig = plt.figure()\n",
    "\n",
    "ax = fig.add_subplot(projection='3d')\n",
    "\n",
    "ax.scatter3D(*transformed_isomap_velocities.T, c=colors)\n",
    "\n",
    "ax.set_xlim([-2.25, 2.25])\n",
    "ax.set_ylim([-2.25, 2.25])\n",
    "ax.set_zlim([-2.25, 2.25])\n",
    "ax.set_xlabel('dim 1')\n",
    "ax.set_ylabel('dim 2')\n",
    "ax.set_zlabel('dim 3')\n",
    "ax.set_title('Isomap Error: {:.2f}'.format(isomap_error))\n",
    "\n",
    "ax.xaxis.set_tick_params(labelbottom=False)\n",
    "ax.yaxis.set_tick_params(labelleft=False)\n",
    "ax.set_xticks([])\n",
    "ax.set_yticks([])\n",
    "ax.set_zticks([])\n",
    "ax.xaxis.labelpad=-11.5\n",
    "ax.yaxis.labelpad=-11.5\n",
    "ax.zaxis.labelpad=-11.5\n",
    "\n"
   ]
  },
  {
   "cell_type": "code",
   "execution_count": null,
   "metadata": {},
   "outputs": [],
   "source": []
  }
 ],
 "metadata": {
  "kernelspec": {
   "display_name": "gcpc_velocity",
   "language": "python",
   "name": "python3"
  },
  "language_info": {
   "codemirror_mode": {
    "name": "ipython",
    "version": 3
   },
   "file_extension": ".py",
   "mimetype": "text/x-python",
   "name": "python",
   "nbconvert_exporter": "python",
   "pygments_lexer": "ipython3",
   "version": "3.9.13"
  }
 },
 "nbformat": 4,
 "nbformat_minor": 2
}
