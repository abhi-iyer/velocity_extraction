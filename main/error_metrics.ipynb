{
 "cells": [
  {
   "cell_type": "code",
   "execution_count": null,
   "metadata": {},
   "outputs": [],
   "source": [
    "%load_ext autoreload\n",
    "%autoreload 2\n",
    "\n",
    "from imports import *\n",
    "from models import *\n",
    "from utils import *\n",
    "from data import *\n",
    "from configs import CONFIGS, EXP_CODES"
   ]
  },
  {
   "cell_type": "code",
   "execution_count": null,
   "metadata": {},
   "outputs": [],
   "source": [
    "'''\n",
    "load saved experiment\n",
    "'''\n",
    "\n",
    "\n",
    "config_name = 'freq_3dim'\n",
    "config = deepcopy(CONFIGS[config_name])\n",
    "\n",
    "train_dataset, test_dataset, train_loader, test_loader = get_dataset_dataloader(config)"
   ]
  },
  {
   "cell_type": "code",
   "execution_count": null,
   "metadata": {},
   "outputs": [],
   "source": [
    "'''\n",
    "load model from wandb run\n",
    "'''\n",
    "model_code = EXP_CODES[config_name][0]\n",
    "\n",
    "fix_randomness(seed=42)\n",
    "\n",
    "model = config['model_class'](seed=0, **config['model_args']).cuda()\n",
    "model.load_state_dict(torch.load('./models/model_{}.pt'.format(model_code)))\n",
    "_ = model.eval()\n",
    "\n",
    "\n",
    "'''\n",
    "generate random trajectory from test dataset\n",
    "'''\n",
    "trajectory, gt_vs = test_dataset.generate_sample_trajectory(length=2000)\n",
    "\n",
    "i1 = trajectory[:-1, :].unsqueeze(0).cuda()\n",
    "i2 = trajectory[1:, :].unsqueeze(0).cuda()\n",
    "\n",
    "with torch.no_grad():\n",
    "    pred_vs = model_encoder(model=model, first_img=i1, second_img=i2)\n",
    "\n",
    "    pred_vs = pred_vs.squeeze().cpu()\n",
    "\n",
    "\n",
    "gt_velocities = np.array(gt_vs)\n",
    "pred_velocities = np.array(pred_vs)\n",
    "colors = test_dataset.cmap(gt_vs)\n",
    "\n",
    "if gt_velocities.squeeze().ndim == 2 and pred_velocities.squeeze().ndim == 2:\n",
    "    if gt_velocities.shape[1] == 2 and pred_velocities.shape[1] == 3:\n",
    "        gt_velocities = np.hstack((gt_velocities, np.zeros((gt_velocities.shape[0], 1))))\n",
    "\n",
    "if gt_velocities.squeeze().ndim == 1 and pred_velocities.squeeze().ndim == 1:\n",
    "    gt_velocities = np.hstack((gt_velocities.reshape(-1, 1), np.zeros((gt_velocities.shape[0], 1))))\n",
    "    \n",
    "    pred_velocities = np.hstack((pred_velocities.reshape(-1, 1), np.zeros((pred_velocities.shape[0], 1))))\n",
    "\n",
    "\n",
    "plotly_scatter(pred_velocities, colors, '')"
   ]
  },
  {
   "cell_type": "code",
   "execution_count": null,
   "metadata": {},
   "outputs": [],
   "source": [
    "pca = PCA()\n",
    "\n",
    "pca.fit(pred_velocities - pred_velocities.mean(axis=0))\n",
    "\n",
    "print(pca.explained_variance_ratio_)\n",
    "\n",
    "total_variance = pca.explained_variance_ratio_[pca.explained_variance_ratio_ != min(pca.explained_variance_ratio_)].sum()"
   ]
  },
  {
   "cell_type": "code",
   "execution_count": null,
   "metadata": {},
   "outputs": [],
   "source": [
    "'''\n",
    "remove outliers\n",
    "'''\n",
    "\n",
    "error, transformed_pred_velocities = compute_error_metric(\n",
    "    true=gt_velocities,\n",
    "    pred=pred_velocities,\n",
    "    num_clusters=30,\n",
    "    show_knee_visualization=True,\n",
    ")"
   ]
  },
  {
   "cell_type": "code",
   "execution_count": null,
   "metadata": {},
   "outputs": [],
   "source": [
    "plotly_scatter(gt_velocities, colors, 'true velocities')"
   ]
  },
  {
   "cell_type": "code",
   "execution_count": null,
   "metadata": {},
   "outputs": [],
   "source": [
    "plotly_scatter(\n",
    "    pred_velocities,\n",
    "    colors,\n",
    "    'predicted velocities',\n",
    ")"
   ]
  },
  {
   "cell_type": "code",
   "execution_count": null,
   "metadata": {},
   "outputs": [],
   "source": [
    "plotly_scatter(\n",
    "    transformed_pred_velocities,\n",
    "    colors,\n",
    "    'predicted velocities transformed, error: {:.4f}'.format(error)\n",
    ")"
   ]
  },
  {
   "cell_type": "code",
   "execution_count": null,
   "metadata": {},
   "outputs": [],
   "source": []
  },
  {
   "cell_type": "code",
   "execution_count": null,
   "metadata": {},
   "outputs": [],
   "source": []
  },
  {
   "cell_type": "code",
   "execution_count": null,
   "metadata": {},
   "outputs": [],
   "source": [
    "plt.rcParams.update({'font.size': 22})\n",
    "\n",
    "plt.figure()\n",
    "\n",
    "plt.scatter(*gt_velocities.T, c=colors, s=100)\n",
    "\n",
    "ax = plt.gca()\n",
    "ax.set_xlim([-0.06, 0.06])\n",
    "ax.set_ylim([-0.06, 0.06])\n",
    "ax.set_xlabel('dim 1')\n",
    "ax.set_ylabel('dim 2')\n",
    "ax.set_title('1d Frequency Modulation true space')\n",
    "\n",
    "ax.xaxis.set_tick_params(labelbottom=False)\n",
    "ax.yaxis.set_tick_params(labelleft=False)\n",
    "ax.set_xticks([])\n",
    "ax.set_yticks([])"
   ]
  },
  {
   "cell_type": "code",
   "execution_count": null,
   "metadata": {},
   "outputs": [],
   "source": [
    "# plt.rcParams.update({'font.size': 22})\n",
    "\n",
    "# plt.figure()\n",
    "\n",
    "# plt.scatter(*pred_velocities.T, c=colors)\n",
    "\n",
    "# ax = plt.gca()\n",
    "# ax.set_xlim([-0.09, 0.09])\n",
    "# ax.set_ylim([-0.09, 0.09])\n",
    "# ax.set_xlabel('dim 1')\n",
    "# ax.set_ylabel('dim 2')\n",
    "# ax.set_title('Our Model Error: {:.4f}'.format(error))\n",
    "\n",
    "# ax.xaxis.set_tick_params(labelbottom=False)\n",
    "# ax.yaxis.set_tick_params(labelleft=False)\n",
    "# ax.set_xticks([])\n",
    "# ax.set_yticks([])"
   ]
  },
  {
   "cell_type": "code",
   "execution_count": null,
   "metadata": {},
   "outputs": [],
   "source": [
    "plt.rcParams.update({'font.size': 22})\n",
    "\n",
    "plt.figure()\n",
    "\n",
    "plt.scatter(*pred_velocities.T, c=colors)\n",
    "\n",
    "ax = plt.gca()\n",
    "ax.set_xlim([-0.005, 0.001])\n",
    "ax.set_ylim([-0.005, 0.001])\n",
    "ax.set_xlabel('dim 1')\n",
    "ax.set_ylabel('dim 2')\n",
    "ax.set_title('1 dimension explained \\nwith {:.2f} variance'.format(total_variance))\n",
    "\n",
    "ax.xaxis.set_tick_params(labelbottom=False)\n",
    "ax.yaxis.set_tick_params(labelleft=False)\n",
    "ax.set_xticks([])\n",
    "ax.set_yticks([])"
   ]
  },
  {
   "cell_type": "code",
   "execution_count": null,
   "metadata": {},
   "outputs": [],
   "source": [
    "plt.rcParams.update({'font.size': 22})\n",
    "\n",
    "fig = plt.figure()\n",
    "\n",
    "ax = fig.add_subplot(projection='3d')\n",
    "\n",
    "ax.scatter3D(*pred_velocities.T, c=colors)\n",
    "\n",
    "ax.set_xlim([-0.005, 0.00005])\n",
    "ax.set_ylim([-0.005, 0.005])\n",
    "ax.set_zlim([-0.005, 0.005])\n",
    "ax.set_xlabel('dim 1')\n",
    "ax.set_ylabel('dim 2')\n",
    "ax.set_zlabel('dim 3')\n",
    "ax.set_title('1 dimension explained \\nwith {:.2f} variance'.format(total_variance))\n",
    "\n",
    "ax.xaxis.set_tick_params(labelbottom=False)\n",
    "ax.yaxis.set_tick_params(labelleft=False)\n",
    "ax.set_xticks([])\n",
    "ax.set_yticks([])\n",
    "ax.set_zticks([])\n",
    "ax.xaxis.labelpad=-11.5\n",
    "ax.yaxis.labelpad=-11.5\n",
    "ax.zaxis.labelpad=-11.5\n",
    "\n",
    "# ax.view_init(elev=10., azim=250.0)"
   ]
  },
  {
   "cell_type": "code",
   "execution_count": null,
   "metadata": {},
   "outputs": [],
   "source": [
    "# ransac = RANSACRegressor()\n",
    "# ransac.fit(pred_velocities[:, :2], pred_velocities[:, 2])\n",
    "\n",
    "# # Find inliers and outliers\n",
    "# inlier_mask = ransac.inlier_mask_\n",
    "# outlier_mask = np.logical_not(inlier_mask)\n",
    "# percent_outlier = outlier_mask.sum() / pred_velocities.shape[0]\n",
    "\n",
    "# plotly_scatter(pred_velocities[inlier_mask], colors=colors[inlier_mask], title='')\n",
    "\n",
    "# residual = np.linalg.norm(pred_velocities[:, 2] - ransac.predict(pred_velocities[:, :2]))\n",
    "\n",
    "# print(\"percent of outliers {:.3f}, residual: {:.3f}\".format(percent_outlier, residual))\n",
    "\n",
    "# plotly_scatter(pred_velocities[inlier_mask], colors=colors[inlier_mask], title='')"
   ]
  },
  {
   "cell_type": "code",
   "execution_count": null,
   "metadata": {},
   "outputs": [],
   "source": []
  },
  {
   "cell_type": "code",
   "execution_count": null,
   "metadata": {},
   "outputs": [],
   "source": []
  },
  {
   "cell_type": "code",
   "execution_count": null,
   "metadata": {},
   "outputs": [],
   "source": []
  },
  {
   "cell_type": "code",
   "execution_count": null,
   "metadata": {},
   "outputs": [],
   "source": []
  }
 ],
 "metadata": {
  "kernelspec": {
   "display_name": "gcpc_velocity",
   "language": "python",
   "name": "python3"
  },
  "language_info": {
   "codemirror_mode": {
    "name": "ipython",
    "version": 3
   },
   "file_extension": ".py",
   "mimetype": "text/x-python",
   "name": "python",
   "nbconvert_exporter": "python",
   "pygments_lexer": "ipython3",
   "version": "3.9.13"
  }
 },
 "nbformat": 4,
 "nbformat_minor": 2
}
