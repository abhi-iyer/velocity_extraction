{
 "cells": [
  {
   "cell_type": "code",
   "execution_count": 4,
   "metadata": {},
   "outputs": [
    {
     "name": "stdout",
     "output_type": "stream",
     "text": [
      "The autoreload extension is already loaded. To reload it, use:\n",
      "  %reload_ext autoreload\n"
     ]
    }
   ],
   "source": [
    "%load_ext autoreload\n",
    "%autoreload 2\n",
    "\n",
    "from imports import *\n",
    "from models import *\n",
    "from utils import *\n",
    "from data import *\n",
    "from configs import CONFIGS, EXP_CODES"
   ]
  },
  {
   "cell_type": "code",
   "execution_count": 5,
   "metadata": {},
   "outputs": [
    {
     "ename": "RuntimeError",
     "evalue": "Unexpected error from cudaGetDeviceCount(). Did you run some cuda functions before calling NumCudaDevices() that might have already set an error? Error 804: forward compatibility was attempted on non supported HW",
     "output_type": "error",
     "traceback": [
      "\u001b[0;31m---------------------------------------------------------------------------\u001b[0m",
      "\u001b[0;31mRuntimeError\u001b[0m                              Traceback (most recent call last)",
      "Cell \u001b[0;32mIn [5], line 1\u001b[0m\n\u001b[0;32m----> 1\u001b[0m a \u001b[38;5;241m=\u001b[39m \u001b[43mtorch\u001b[49m\u001b[38;5;241;43m.\u001b[39;49m\u001b[43mTensor\u001b[49m\u001b[43m(\u001b[49m\u001b[43m[\u001b[49m\u001b[38;5;241;43m1\u001b[39;49m\u001b[43m]\u001b[49m\u001b[43m)\u001b[49m\u001b[38;5;241;43m.\u001b[39;49m\u001b[43mcuda\u001b[49m\u001b[43m(\u001b[49m\u001b[43m)\u001b[49m\n",
      "File \u001b[0;32m~/miniconda3/envs/velocity/lib/python3.9/site-packages/torch/cuda/__init__.py:229\u001b[0m, in \u001b[0;36m_lazy_init\u001b[0;34m()\u001b[0m\n\u001b[1;32m    227\u001b[0m \u001b[38;5;28;01mif\u001b[39;00m \u001b[38;5;124m'\u001b[39m\u001b[38;5;124mCUDA_MODULE_LOADING\u001b[39m\u001b[38;5;124m'\u001b[39m \u001b[38;5;129;01mnot\u001b[39;00m \u001b[38;5;129;01min\u001b[39;00m os\u001b[38;5;241m.\u001b[39menviron:\n\u001b[1;32m    228\u001b[0m     os\u001b[38;5;241m.\u001b[39menviron[\u001b[38;5;124m'\u001b[39m\u001b[38;5;124mCUDA_MODULE_LOADING\u001b[39m\u001b[38;5;124m'\u001b[39m] \u001b[38;5;241m=\u001b[39m \u001b[38;5;124m'\u001b[39m\u001b[38;5;124mLAZY\u001b[39m\u001b[38;5;124m'\u001b[39m\n\u001b[0;32m--> 229\u001b[0m \u001b[43mtorch\u001b[49m\u001b[38;5;241;43m.\u001b[39;49m\u001b[43m_C\u001b[49m\u001b[38;5;241;43m.\u001b[39;49m\u001b[43m_cuda_init\u001b[49m\u001b[43m(\u001b[49m\u001b[43m)\u001b[49m\n\u001b[1;32m    230\u001b[0m \u001b[38;5;66;03m# Some of the queued calls may reentrantly call _lazy_init();\u001b[39;00m\n\u001b[1;32m    231\u001b[0m \u001b[38;5;66;03m# we need to just return without initializing in that case.\u001b[39;00m\n\u001b[1;32m    232\u001b[0m \u001b[38;5;66;03m# However, we must not let any *other* threads in!\u001b[39;00m\n\u001b[1;32m    233\u001b[0m _tls\u001b[38;5;241m.\u001b[39mis_initializing \u001b[38;5;241m=\u001b[39m \u001b[38;5;28;01mTrue\u001b[39;00m\n",
      "\u001b[0;31mRuntimeError\u001b[0m: Unexpected error from cudaGetDeviceCount(). Did you run some cuda functions before calling NumCudaDevices() that might have already set an error? Error 804: forward compatibility was attempted on non supported HW"
     ]
    }
   ],
   "source": []
  },
  {
   "cell_type": "code",
   "execution_count": null,
   "metadata": {},
   "outputs": [],
   "source": []
  },
  {
   "cell_type": "code",
   "execution_count": 4,
   "metadata": {},
   "outputs": [
    {
     "name": "stderr",
     "output_type": "stream",
     "text": [
      "  0%|          | 0/15000 [00:00<?, ?it/s]"
     ]
    },
    {
     "name": "stderr",
     "output_type": "stream",
     "text": [
      "100%|██████████| 15000/15000 [00:03<00:00, 4662.53it/s]\n",
      "100%|██████████| 3000/3000 [00:00<00:00, 4673.57it/s]\n"
     ]
    }
   ],
   "source": [
    "'''\n",
    "load saved experiment\n",
    "'''\n",
    "\n",
    "\n",
    "config_name = 'bird2d_3dim'\n",
    "config = deepcopy(CONFIGS[config_name])\n",
    "\n",
    "train_dataset, test_dataset, train_loader, test_loader = get_dataset_dataloader(config)\n",
    "\n",
    "model_code = \"fzrjrp4m\"\n",
    "\n",
    "\n",
    "fix_randomness(seed=42)\n",
    "\n",
    "model = config['model_class'](seed=100, **config['model_args']).cuda()\n",
    "model.load_state_dict(torch.load('./models/model_{}.pt'.format(model_code)))\n",
    "_ = model.eval()"
   ]
  },
  {
   "cell_type": "code",
   "execution_count": 5,
   "metadata": {},
   "outputs": [],
   "source": [
    "it = iter(train_loader)"
   ]
  },
  {
   "cell_type": "code",
   "execution_count": 42,
   "metadata": {},
   "outputs": [],
   "source": [
    "sample = next(it)[0]\n",
    "\n",
    "i1, i2, i3 = get_i1_i2_i3(sample)\n",
    "\n",
    "i1 = i1.cuda()\n",
    "i2 = i2.cuda()\n",
    "\n",
    "with torch.no_grad():\n",
    "    pred_vs = model_encoder(model, i1, i2).squeeze()\n",
    "\n"
   ]
  },
  {
   "cell_type": "code",
   "execution_count": 41,
   "metadata": {},
   "outputs": [
    {
     "data": {
      "application/vnd.plotly.v1+json": {
       "config": {
        "plotlyServerURL": "https://plot.ly"
       },
       "data": [
        {
         "marker": {
          "color": [
           "#000000",
           "#000000",
           "#000000",
           "#000000",
           "#000000",
           "#000000",
           "#000000",
           "#000000",
           "#000000",
           "#000000",
           "#000000",
           "#000000",
           "#000000",
           "#000000",
           "#000000",
           "#000000",
           "#000000",
           "#000000",
           "#000000",
           "#000000",
           "#000000",
           "#000000",
           "#000000",
           "#000000",
           "#000000",
           "#000000",
           "#000000",
           "#000000",
           "#000000",
           "#000000",
           "#000000",
           "#000000",
           "#000000",
           "#000000",
           "#000000",
           "#000000",
           "#000000",
           "#000000",
           "#000000",
           "#000000"
          ],
          "size": 5
         },
         "mode": "markers",
         "type": "scatter3d",
         "x": [
          0.0024479336570948362,
          -0.0024544100742787123,
          -0.0014838454080745578,
          -0.02405521646142006,
          0.01639058254659176,
          -0.011680971831083298,
          0.013383675366640091,
          -0.0011981757124885917,
          -0.023222006857395172,
          -0.005858944728970528,
          0.025203147903084755,
          0.003294269787147641,
          -0.03372609242796898,
          0.03011171519756317,
          0.020603539422154427,
          -0.0051909275352954865,
          0.007651129271835089,
          -0.002620577346533537,
          -0.0017771311104297638,
          -0.007710842415690422,
          -0.02435256913304329,
          0.0170938428491354,
          -0.03575321286916733,
          -0.004610643722116947,
          0.03275396674871445,
          -0.024792073294520378,
          0.014236384071409702,
          0.0041713230311870575,
          0.01386833842843771,
          0.0008845494594424963,
          0.01203130092471838,
          0.0005272812559269369,
          -0.010042495094239712,
          -0.014845912344753742,
          -0.015612240880727768,
          -0.013680149801075459,
          0.03999369218945503,
          0.0004485137469600886,
          0.01720953918993473,
          0.001364343916065991
         ],
         "y": [
          -0.01715690642595291,
          0.013306043110787868,
          -0.003135956358164549,
          0.005128372926265001,
          0.020327888429164886,
          0.005516589153558016,
          0.014820297248661518,
          0.03553374111652374,
          -0.007741670589894056,
          -0.0002456917427480221,
          -0.012670548632740974,
          0.024311861023306847,
          -0.027368271723389626,
          -0.03239748999476433,
          -0.012723936699330807,
          0.0037549100816249847,
          -0.04035162925720215,
          0.013990775682032108,
          0.019424371421337128,
          0.04103793203830719,
          0.019969064742326736,
          0.01584523543715477,
          -0.01135769672691822,
          -0.026710620149970055,
          0.007902853190898895,
          0.010868970304727554,
          0.019829941913485527,
          -0.014199183322489262,
          -0.001923990435898304,
          -0.028177732601761818,
          -0.008142397738993168,
          -0.00956982932984829,
          0.06303896009922028,
          0.005386644043028355,
          -0.024479662999510765,
          -0.02201082557439804,
          0.031050046905875206,
          -0.02066754922270775,
          -0.02294066920876503,
          -0.012831084430217743
         ],
         "z": [
          0.030683739110827446,
          -0.0018823478603735566,
          -0.04241546243429184,
          -0.0335213765501976,
          0.023324888199567795,
          -0.0016277232207357883,
          0.026243310421705246,
          0.027493653818964958,
          -0.01461607962846756,
          -0.002181439893320203,
          -0.011077526956796646,
          0.023992545902729034,
          -0.027857715263962746,
          -0.028447307646274567,
          0.06200964376330376,
          -0.05322955921292305,
          0.03153643012046814,
          0.006317040883004665,
          0.012000169605016708,
          -0.03186929225921631,
          -0.006302577909082174,
          0.02180084027349949,
          -0.01645093970000744,
          -0.023665009066462517,
          0.005729788448661566,
          0.010061938315629959,
          0.013708501122891903,
          -0.013406090438365936,
          -0.0015772461192682385,
          -0.021965445950627327,
          0.05107027664780617,
          0.00908153411000967,
          -0.022009676322340965,
          -0.005155126564204693,
          -0.02236042730510235,
          -0.020339440554380417,
          0.021991051733493805,
          -0.020620154216885567,
          0.010945139452815056,
          -0.005295425653457642
         ]
        }
       ],
       "layout": {
        "scene": {
         "xaxis": {
          "title": {
           "text": "dim 1"
          }
         },
         "yaxis": {
          "title": {
           "text": "dim 2"
          }
         },
         "zaxis": {
          "title": {
           "text": "dim 3"
          }
         }
        },
        "template": {
         "data": {
          "bar": [
           {
            "error_x": {
             "color": "#2a3f5f"
            },
            "error_y": {
             "color": "#2a3f5f"
            },
            "marker": {
             "line": {
              "color": "#E5ECF6",
              "width": 0.5
             },
             "pattern": {
              "fillmode": "overlay",
              "size": 10,
              "solidity": 0.2
             }
            },
            "type": "bar"
           }
          ],
          "barpolar": [
           {
            "marker": {
             "line": {
              "color": "#E5ECF6",
              "width": 0.5
             },
             "pattern": {
              "fillmode": "overlay",
              "size": 10,
              "solidity": 0.2
             }
            },
            "type": "barpolar"
           }
          ],
          "carpet": [
           {
            "aaxis": {
             "endlinecolor": "#2a3f5f",
             "gridcolor": "white",
             "linecolor": "white",
             "minorgridcolor": "white",
             "startlinecolor": "#2a3f5f"
            },
            "baxis": {
             "endlinecolor": "#2a3f5f",
             "gridcolor": "white",
             "linecolor": "white",
             "minorgridcolor": "white",
             "startlinecolor": "#2a3f5f"
            },
            "type": "carpet"
           }
          ],
          "choropleth": [
           {
            "colorbar": {
             "outlinewidth": 0,
             "ticks": ""
            },
            "type": "choropleth"
           }
          ],
          "contour": [
           {
            "colorbar": {
             "outlinewidth": 0,
             "ticks": ""
            },
            "colorscale": [
             [
              0,
              "#0d0887"
             ],
             [
              0.1111111111111111,
              "#46039f"
             ],
             [
              0.2222222222222222,
              "#7201a8"
             ],
             [
              0.3333333333333333,
              "#9c179e"
             ],
             [
              0.4444444444444444,
              "#bd3786"
             ],
             [
              0.5555555555555556,
              "#d8576b"
             ],
             [
              0.6666666666666666,
              "#ed7953"
             ],
             [
              0.7777777777777778,
              "#fb9f3a"
             ],
             [
              0.8888888888888888,
              "#fdca26"
             ],
             [
              1,
              "#f0f921"
             ]
            ],
            "type": "contour"
           }
          ],
          "contourcarpet": [
           {
            "colorbar": {
             "outlinewidth": 0,
             "ticks": ""
            },
            "type": "contourcarpet"
           }
          ],
          "heatmap": [
           {
            "colorbar": {
             "outlinewidth": 0,
             "ticks": ""
            },
            "colorscale": [
             [
              0,
              "#0d0887"
             ],
             [
              0.1111111111111111,
              "#46039f"
             ],
             [
              0.2222222222222222,
              "#7201a8"
             ],
             [
              0.3333333333333333,
              "#9c179e"
             ],
             [
              0.4444444444444444,
              "#bd3786"
             ],
             [
              0.5555555555555556,
              "#d8576b"
             ],
             [
              0.6666666666666666,
              "#ed7953"
             ],
             [
              0.7777777777777778,
              "#fb9f3a"
             ],
             [
              0.8888888888888888,
              "#fdca26"
             ],
             [
              1,
              "#f0f921"
             ]
            ],
            "type": "heatmap"
           }
          ],
          "heatmapgl": [
           {
            "colorbar": {
             "outlinewidth": 0,
             "ticks": ""
            },
            "colorscale": [
             [
              0,
              "#0d0887"
             ],
             [
              0.1111111111111111,
              "#46039f"
             ],
             [
              0.2222222222222222,
              "#7201a8"
             ],
             [
              0.3333333333333333,
              "#9c179e"
             ],
             [
              0.4444444444444444,
              "#bd3786"
             ],
             [
              0.5555555555555556,
              "#d8576b"
             ],
             [
              0.6666666666666666,
              "#ed7953"
             ],
             [
              0.7777777777777778,
              "#fb9f3a"
             ],
             [
              0.8888888888888888,
              "#fdca26"
             ],
             [
              1,
              "#f0f921"
             ]
            ],
            "type": "heatmapgl"
           }
          ],
          "histogram": [
           {
            "marker": {
             "pattern": {
              "fillmode": "overlay",
              "size": 10,
              "solidity": 0.2
             }
            },
            "type": "histogram"
           }
          ],
          "histogram2d": [
           {
            "colorbar": {
             "outlinewidth": 0,
             "ticks": ""
            },
            "colorscale": [
             [
              0,
              "#0d0887"
             ],
             [
              0.1111111111111111,
              "#46039f"
             ],
             [
              0.2222222222222222,
              "#7201a8"
             ],
             [
              0.3333333333333333,
              "#9c179e"
             ],
             [
              0.4444444444444444,
              "#bd3786"
             ],
             [
              0.5555555555555556,
              "#d8576b"
             ],
             [
              0.6666666666666666,
              "#ed7953"
             ],
             [
              0.7777777777777778,
              "#fb9f3a"
             ],
             [
              0.8888888888888888,
              "#fdca26"
             ],
             [
              1,
              "#f0f921"
             ]
            ],
            "type": "histogram2d"
           }
          ],
          "histogram2dcontour": [
           {
            "colorbar": {
             "outlinewidth": 0,
             "ticks": ""
            },
            "colorscale": [
             [
              0,
              "#0d0887"
             ],
             [
              0.1111111111111111,
              "#46039f"
             ],
             [
              0.2222222222222222,
              "#7201a8"
             ],
             [
              0.3333333333333333,
              "#9c179e"
             ],
             [
              0.4444444444444444,
              "#bd3786"
             ],
             [
              0.5555555555555556,
              "#d8576b"
             ],
             [
              0.6666666666666666,
              "#ed7953"
             ],
             [
              0.7777777777777778,
              "#fb9f3a"
             ],
             [
              0.8888888888888888,
              "#fdca26"
             ],
             [
              1,
              "#f0f921"
             ]
            ],
            "type": "histogram2dcontour"
           }
          ],
          "mesh3d": [
           {
            "colorbar": {
             "outlinewidth": 0,
             "ticks": ""
            },
            "type": "mesh3d"
           }
          ],
          "parcoords": [
           {
            "line": {
             "colorbar": {
              "outlinewidth": 0,
              "ticks": ""
             }
            },
            "type": "parcoords"
           }
          ],
          "pie": [
           {
            "automargin": true,
            "type": "pie"
           }
          ],
          "scatter": [
           {
            "fillpattern": {
             "fillmode": "overlay",
             "size": 10,
             "solidity": 0.2
            },
            "type": "scatter"
           }
          ],
          "scatter3d": [
           {
            "line": {
             "colorbar": {
              "outlinewidth": 0,
              "ticks": ""
             }
            },
            "marker": {
             "colorbar": {
              "outlinewidth": 0,
              "ticks": ""
             }
            },
            "type": "scatter3d"
           }
          ],
          "scattercarpet": [
           {
            "marker": {
             "colorbar": {
              "outlinewidth": 0,
              "ticks": ""
             }
            },
            "type": "scattercarpet"
           }
          ],
          "scattergeo": [
           {
            "marker": {
             "colorbar": {
              "outlinewidth": 0,
              "ticks": ""
             }
            },
            "type": "scattergeo"
           }
          ],
          "scattergl": [
           {
            "marker": {
             "colorbar": {
              "outlinewidth": 0,
              "ticks": ""
             }
            },
            "type": "scattergl"
           }
          ],
          "scattermapbox": [
           {
            "marker": {
             "colorbar": {
              "outlinewidth": 0,
              "ticks": ""
             }
            },
            "type": "scattermapbox"
           }
          ],
          "scatterpolar": [
           {
            "marker": {
             "colorbar": {
              "outlinewidth": 0,
              "ticks": ""
             }
            },
            "type": "scatterpolar"
           }
          ],
          "scatterpolargl": [
           {
            "marker": {
             "colorbar": {
              "outlinewidth": 0,
              "ticks": ""
             }
            },
            "type": "scatterpolargl"
           }
          ],
          "scatterternary": [
           {
            "marker": {
             "colorbar": {
              "outlinewidth": 0,
              "ticks": ""
             }
            },
            "type": "scatterternary"
           }
          ],
          "surface": [
           {
            "colorbar": {
             "outlinewidth": 0,
             "ticks": ""
            },
            "colorscale": [
             [
              0,
              "#0d0887"
             ],
             [
              0.1111111111111111,
              "#46039f"
             ],
             [
              0.2222222222222222,
              "#7201a8"
             ],
             [
              0.3333333333333333,
              "#9c179e"
             ],
             [
              0.4444444444444444,
              "#bd3786"
             ],
             [
              0.5555555555555556,
              "#d8576b"
             ],
             [
              0.6666666666666666,
              "#ed7953"
             ],
             [
              0.7777777777777778,
              "#fb9f3a"
             ],
             [
              0.8888888888888888,
              "#fdca26"
             ],
             [
              1,
              "#f0f921"
             ]
            ],
            "type": "surface"
           }
          ],
          "table": [
           {
            "cells": {
             "fill": {
              "color": "#EBF0F8"
             },
             "line": {
              "color": "white"
             }
            },
            "header": {
             "fill": {
              "color": "#C8D4E3"
             },
             "line": {
              "color": "white"
             }
            },
            "type": "table"
           }
          ]
         },
         "layout": {
          "annotationdefaults": {
           "arrowcolor": "#2a3f5f",
           "arrowhead": 0,
           "arrowwidth": 1
          },
          "autotypenumbers": "strict",
          "coloraxis": {
           "colorbar": {
            "outlinewidth": 0,
            "ticks": ""
           }
          },
          "colorscale": {
           "diverging": [
            [
             0,
             "#8e0152"
            ],
            [
             0.1,
             "#c51b7d"
            ],
            [
             0.2,
             "#de77ae"
            ],
            [
             0.3,
             "#f1b6da"
            ],
            [
             0.4,
             "#fde0ef"
            ],
            [
             0.5,
             "#f7f7f7"
            ],
            [
             0.6,
             "#e6f5d0"
            ],
            [
             0.7,
             "#b8e186"
            ],
            [
             0.8,
             "#7fbc41"
            ],
            [
             0.9,
             "#4d9221"
            ],
            [
             1,
             "#276419"
            ]
           ],
           "sequential": [
            [
             0,
             "#0d0887"
            ],
            [
             0.1111111111111111,
             "#46039f"
            ],
            [
             0.2222222222222222,
             "#7201a8"
            ],
            [
             0.3333333333333333,
             "#9c179e"
            ],
            [
             0.4444444444444444,
             "#bd3786"
            ],
            [
             0.5555555555555556,
             "#d8576b"
            ],
            [
             0.6666666666666666,
             "#ed7953"
            ],
            [
             0.7777777777777778,
             "#fb9f3a"
            ],
            [
             0.8888888888888888,
             "#fdca26"
            ],
            [
             1,
             "#f0f921"
            ]
           ],
           "sequentialminus": [
            [
             0,
             "#0d0887"
            ],
            [
             0.1111111111111111,
             "#46039f"
            ],
            [
             0.2222222222222222,
             "#7201a8"
            ],
            [
             0.3333333333333333,
             "#9c179e"
            ],
            [
             0.4444444444444444,
             "#bd3786"
            ],
            [
             0.5555555555555556,
             "#d8576b"
            ],
            [
             0.6666666666666666,
             "#ed7953"
            ],
            [
             0.7777777777777778,
             "#fb9f3a"
            ],
            [
             0.8888888888888888,
             "#fdca26"
            ],
            [
             1,
             "#f0f921"
            ]
           ]
          },
          "colorway": [
           "#636efa",
           "#EF553B",
           "#00cc96",
           "#ab63fa",
           "#FFA15A",
           "#19d3f3",
           "#FF6692",
           "#B6E880",
           "#FF97FF",
           "#FECB52"
          ],
          "font": {
           "color": "#2a3f5f"
          },
          "geo": {
           "bgcolor": "white",
           "lakecolor": "white",
           "landcolor": "#E5ECF6",
           "showlakes": true,
           "showland": true,
           "subunitcolor": "white"
          },
          "hoverlabel": {
           "align": "left"
          },
          "hovermode": "closest",
          "mapbox": {
           "style": "light"
          },
          "paper_bgcolor": "white",
          "plot_bgcolor": "#E5ECF6",
          "polar": {
           "angularaxis": {
            "gridcolor": "white",
            "linecolor": "white",
            "ticks": ""
           },
           "bgcolor": "#E5ECF6",
           "radialaxis": {
            "gridcolor": "white",
            "linecolor": "white",
            "ticks": ""
           }
          },
          "scene": {
           "xaxis": {
            "backgroundcolor": "#E5ECF6",
            "gridcolor": "white",
            "gridwidth": 2,
            "linecolor": "white",
            "showbackground": true,
            "ticks": "",
            "zerolinecolor": "white"
           },
           "yaxis": {
            "backgroundcolor": "#E5ECF6",
            "gridcolor": "white",
            "gridwidth": 2,
            "linecolor": "white",
            "showbackground": true,
            "ticks": "",
            "zerolinecolor": "white"
           },
           "zaxis": {
            "backgroundcolor": "#E5ECF6",
            "gridcolor": "white",
            "gridwidth": 2,
            "linecolor": "white",
            "showbackground": true,
            "ticks": "",
            "zerolinecolor": "white"
           }
          },
          "shapedefaults": {
           "line": {
            "color": "#2a3f5f"
           }
          },
          "ternary": {
           "aaxis": {
            "gridcolor": "white",
            "linecolor": "white",
            "ticks": ""
           },
           "baxis": {
            "gridcolor": "white",
            "linecolor": "white",
            "ticks": ""
           },
           "bgcolor": "#E5ECF6",
           "caxis": {
            "gridcolor": "white",
            "linecolor": "white",
            "ticks": ""
           }
          },
          "title": {
           "x": 0.05
          },
          "xaxis": {
           "automargin": true,
           "gridcolor": "white",
           "linecolor": "white",
           "ticks": "",
           "title": {
            "standoff": 15
           },
           "zerolinecolor": "white",
           "zerolinewidth": 2
          },
          "yaxis": {
           "automargin": true,
           "gridcolor": "white",
           "linecolor": "white",
           "ticks": "",
           "title": {
            "standoff": 15
           },
           "zerolinecolor": "white",
           "zerolinewidth": 2
          }
         }
        },
        "title": {
         "text": ""
        }
       }
      },
      "text/html": [
       "<div>                            <div id=\"d92e1b5f-d12f-4b41-9b89-be8ae0e5132a\" class=\"plotly-graph-div\" style=\"height:525px; width:100%;\"></div>            <script type=\"text/javascript\">                require([\"plotly\"], function(Plotly) {                    window.PLOTLYENV=window.PLOTLYENV || {};                                    if (document.getElementById(\"d92e1b5f-d12f-4b41-9b89-be8ae0e5132a\")) {                    Plotly.newPlot(                        \"d92e1b5f-d12f-4b41-9b89-be8ae0e5132a\",                        [{\"marker\":{\"color\":[\"#000000\",\"#000000\",\"#000000\",\"#000000\",\"#000000\",\"#000000\",\"#000000\",\"#000000\",\"#000000\",\"#000000\",\"#000000\",\"#000000\",\"#000000\",\"#000000\",\"#000000\",\"#000000\",\"#000000\",\"#000000\",\"#000000\",\"#000000\",\"#000000\",\"#000000\",\"#000000\",\"#000000\",\"#000000\",\"#000000\",\"#000000\",\"#000000\",\"#000000\",\"#000000\",\"#000000\",\"#000000\",\"#000000\",\"#000000\",\"#000000\",\"#000000\",\"#000000\",\"#000000\",\"#000000\",\"#000000\"],\"size\":5},\"mode\":\"markers\",\"x\":[0.0024479336570948362,-0.0024544100742787123,-0.0014838454080745578,-0.02405521646142006,0.01639058254659176,-0.011680971831083298,0.013383675366640091,-0.0011981757124885917,-0.023222006857395172,-0.005858944728970528,0.025203147903084755,0.003294269787147641,-0.03372609242796898,0.03011171519756317,0.020603539422154427,-0.0051909275352954865,0.007651129271835089,-0.002620577346533537,-0.0017771311104297638,-0.007710842415690422,-0.02435256913304329,0.0170938428491354,-0.03575321286916733,-0.004610643722116947,0.03275396674871445,-0.024792073294520378,0.014236384071409702,0.0041713230311870575,0.01386833842843771,0.0008845494594424963,0.01203130092471838,0.0005272812559269369,-0.010042495094239712,-0.014845912344753742,-0.015612240880727768,-0.013680149801075459,0.03999369218945503,0.0004485137469600886,0.01720953918993473,0.001364343916065991],\"y\":[-0.01715690642595291,0.013306043110787868,-0.003135956358164549,0.005128372926265001,0.020327888429164886,0.005516589153558016,0.014820297248661518,0.03553374111652374,-0.007741670589894056,-0.0002456917427480221,-0.012670548632740974,0.024311861023306847,-0.027368271723389626,-0.03239748999476433,-0.012723936699330807,0.0037549100816249847,-0.04035162925720215,0.013990775682032108,0.019424371421337128,0.04103793203830719,0.019969064742326736,0.01584523543715477,-0.01135769672691822,-0.026710620149970055,0.007902853190898895,0.010868970304727554,0.019829941913485527,-0.014199183322489262,-0.001923990435898304,-0.028177732601761818,-0.008142397738993168,-0.00956982932984829,0.06303896009922028,0.005386644043028355,-0.024479662999510765,-0.02201082557439804,0.031050046905875206,-0.02066754922270775,-0.02294066920876503,-0.012831084430217743],\"z\":[0.030683739110827446,-0.0018823478603735566,-0.04241546243429184,-0.0335213765501976,0.023324888199567795,-0.0016277232207357883,0.026243310421705246,0.027493653818964958,-0.01461607962846756,-0.002181439893320203,-0.011077526956796646,0.023992545902729034,-0.027857715263962746,-0.028447307646274567,0.06200964376330376,-0.05322955921292305,0.03153643012046814,0.006317040883004665,0.012000169605016708,-0.03186929225921631,-0.006302577909082174,0.02180084027349949,-0.01645093970000744,-0.023665009066462517,0.005729788448661566,0.010061938315629959,0.013708501122891903,-0.013406090438365936,-0.0015772461192682385,-0.021965445950627327,0.05107027664780617,0.00908153411000967,-0.022009676322340965,-0.005155126564204693,-0.02236042730510235,-0.020339440554380417,0.021991051733493805,-0.020620154216885567,0.010945139452815056,-0.005295425653457642],\"type\":\"scatter3d\"}],                        {\"template\":{\"data\":{\"histogram2dcontour\":[{\"type\":\"histogram2dcontour\",\"colorbar\":{\"outlinewidth\":0,\"ticks\":\"\"},\"colorscale\":[[0.0,\"#0d0887\"],[0.1111111111111111,\"#46039f\"],[0.2222222222222222,\"#7201a8\"],[0.3333333333333333,\"#9c179e\"],[0.4444444444444444,\"#bd3786\"],[0.5555555555555556,\"#d8576b\"],[0.6666666666666666,\"#ed7953\"],[0.7777777777777778,\"#fb9f3a\"],[0.8888888888888888,\"#fdca26\"],[1.0,\"#f0f921\"]]}],\"choropleth\":[{\"type\":\"choropleth\",\"colorbar\":{\"outlinewidth\":0,\"ticks\":\"\"}}],\"histogram2d\":[{\"type\":\"histogram2d\",\"colorbar\":{\"outlinewidth\":0,\"ticks\":\"\"},\"colorscale\":[[0.0,\"#0d0887\"],[0.1111111111111111,\"#46039f\"],[0.2222222222222222,\"#7201a8\"],[0.3333333333333333,\"#9c179e\"],[0.4444444444444444,\"#bd3786\"],[0.5555555555555556,\"#d8576b\"],[0.6666666666666666,\"#ed7953\"],[0.7777777777777778,\"#fb9f3a\"],[0.8888888888888888,\"#fdca26\"],[1.0,\"#f0f921\"]]}],\"heatmap\":[{\"type\":\"heatmap\",\"colorbar\":{\"outlinewidth\":0,\"ticks\":\"\"},\"colorscale\":[[0.0,\"#0d0887\"],[0.1111111111111111,\"#46039f\"],[0.2222222222222222,\"#7201a8\"],[0.3333333333333333,\"#9c179e\"],[0.4444444444444444,\"#bd3786\"],[0.5555555555555556,\"#d8576b\"],[0.6666666666666666,\"#ed7953\"],[0.7777777777777778,\"#fb9f3a\"],[0.8888888888888888,\"#fdca26\"],[1.0,\"#f0f921\"]]}],\"heatmapgl\":[{\"type\":\"heatmapgl\",\"colorbar\":{\"outlinewidth\":0,\"ticks\":\"\"},\"colorscale\":[[0.0,\"#0d0887\"],[0.1111111111111111,\"#46039f\"],[0.2222222222222222,\"#7201a8\"],[0.3333333333333333,\"#9c179e\"],[0.4444444444444444,\"#bd3786\"],[0.5555555555555556,\"#d8576b\"],[0.6666666666666666,\"#ed7953\"],[0.7777777777777778,\"#fb9f3a\"],[0.8888888888888888,\"#fdca26\"],[1.0,\"#f0f921\"]]}],\"contourcarpet\":[{\"type\":\"contourcarpet\",\"colorbar\":{\"outlinewidth\":0,\"ticks\":\"\"}}],\"contour\":[{\"type\":\"contour\",\"colorbar\":{\"outlinewidth\":0,\"ticks\":\"\"},\"colorscale\":[[0.0,\"#0d0887\"],[0.1111111111111111,\"#46039f\"],[0.2222222222222222,\"#7201a8\"],[0.3333333333333333,\"#9c179e\"],[0.4444444444444444,\"#bd3786\"],[0.5555555555555556,\"#d8576b\"],[0.6666666666666666,\"#ed7953\"],[0.7777777777777778,\"#fb9f3a\"],[0.8888888888888888,\"#fdca26\"],[1.0,\"#f0f921\"]]}],\"surface\":[{\"type\":\"surface\",\"colorbar\":{\"outlinewidth\":0,\"ticks\":\"\"},\"colorscale\":[[0.0,\"#0d0887\"],[0.1111111111111111,\"#46039f\"],[0.2222222222222222,\"#7201a8\"],[0.3333333333333333,\"#9c179e\"],[0.4444444444444444,\"#bd3786\"],[0.5555555555555556,\"#d8576b\"],[0.6666666666666666,\"#ed7953\"],[0.7777777777777778,\"#fb9f3a\"],[0.8888888888888888,\"#fdca26\"],[1.0,\"#f0f921\"]]}],\"mesh3d\":[{\"type\":\"mesh3d\",\"colorbar\":{\"outlinewidth\":0,\"ticks\":\"\"}}],\"scatter\":[{\"fillpattern\":{\"fillmode\":\"overlay\",\"size\":10,\"solidity\":0.2},\"type\":\"scatter\"}],\"parcoords\":[{\"type\":\"parcoords\",\"line\":{\"colorbar\":{\"outlinewidth\":0,\"ticks\":\"\"}}}],\"scatterpolargl\":[{\"type\":\"scatterpolargl\",\"marker\":{\"colorbar\":{\"outlinewidth\":0,\"ticks\":\"\"}}}],\"bar\":[{\"error_x\":{\"color\":\"#2a3f5f\"},\"error_y\":{\"color\":\"#2a3f5f\"},\"marker\":{\"line\":{\"color\":\"#E5ECF6\",\"width\":0.5},\"pattern\":{\"fillmode\":\"overlay\",\"size\":10,\"solidity\":0.2}},\"type\":\"bar\"}],\"scattergeo\":[{\"type\":\"scattergeo\",\"marker\":{\"colorbar\":{\"outlinewidth\":0,\"ticks\":\"\"}}}],\"scatterpolar\":[{\"type\":\"scatterpolar\",\"marker\":{\"colorbar\":{\"outlinewidth\":0,\"ticks\":\"\"}}}],\"histogram\":[{\"marker\":{\"pattern\":{\"fillmode\":\"overlay\",\"size\":10,\"solidity\":0.2}},\"type\":\"histogram\"}],\"scattergl\":[{\"type\":\"scattergl\",\"marker\":{\"colorbar\":{\"outlinewidth\":0,\"ticks\":\"\"}}}],\"scatter3d\":[{\"type\":\"scatter3d\",\"line\":{\"colorbar\":{\"outlinewidth\":0,\"ticks\":\"\"}},\"marker\":{\"colorbar\":{\"outlinewidth\":0,\"ticks\":\"\"}}}],\"scattermapbox\":[{\"type\":\"scattermapbox\",\"marker\":{\"colorbar\":{\"outlinewidth\":0,\"ticks\":\"\"}}}],\"scatterternary\":[{\"type\":\"scatterternary\",\"marker\":{\"colorbar\":{\"outlinewidth\":0,\"ticks\":\"\"}}}],\"scattercarpet\":[{\"type\":\"scattercarpet\",\"marker\":{\"colorbar\":{\"outlinewidth\":0,\"ticks\":\"\"}}}],\"carpet\":[{\"aaxis\":{\"endlinecolor\":\"#2a3f5f\",\"gridcolor\":\"white\",\"linecolor\":\"white\",\"minorgridcolor\":\"white\",\"startlinecolor\":\"#2a3f5f\"},\"baxis\":{\"endlinecolor\":\"#2a3f5f\",\"gridcolor\":\"white\",\"linecolor\":\"white\",\"minorgridcolor\":\"white\",\"startlinecolor\":\"#2a3f5f\"},\"type\":\"carpet\"}],\"table\":[{\"cells\":{\"fill\":{\"color\":\"#EBF0F8\"},\"line\":{\"color\":\"white\"}},\"header\":{\"fill\":{\"color\":\"#C8D4E3\"},\"line\":{\"color\":\"white\"}},\"type\":\"table\"}],\"barpolar\":[{\"marker\":{\"line\":{\"color\":\"#E5ECF6\",\"width\":0.5},\"pattern\":{\"fillmode\":\"overlay\",\"size\":10,\"solidity\":0.2}},\"type\":\"barpolar\"}],\"pie\":[{\"automargin\":true,\"type\":\"pie\"}]},\"layout\":{\"autotypenumbers\":\"strict\",\"colorway\":[\"#636efa\",\"#EF553B\",\"#00cc96\",\"#ab63fa\",\"#FFA15A\",\"#19d3f3\",\"#FF6692\",\"#B6E880\",\"#FF97FF\",\"#FECB52\"],\"font\":{\"color\":\"#2a3f5f\"},\"hovermode\":\"closest\",\"hoverlabel\":{\"align\":\"left\"},\"paper_bgcolor\":\"white\",\"plot_bgcolor\":\"#E5ECF6\",\"polar\":{\"bgcolor\":\"#E5ECF6\",\"angularaxis\":{\"gridcolor\":\"white\",\"linecolor\":\"white\",\"ticks\":\"\"},\"radialaxis\":{\"gridcolor\":\"white\",\"linecolor\":\"white\",\"ticks\":\"\"}},\"ternary\":{\"bgcolor\":\"#E5ECF6\",\"aaxis\":{\"gridcolor\":\"white\",\"linecolor\":\"white\",\"ticks\":\"\"},\"baxis\":{\"gridcolor\":\"white\",\"linecolor\":\"white\",\"ticks\":\"\"},\"caxis\":{\"gridcolor\":\"white\",\"linecolor\":\"white\",\"ticks\":\"\"}},\"coloraxis\":{\"colorbar\":{\"outlinewidth\":0,\"ticks\":\"\"}},\"colorscale\":{\"sequential\":[[0.0,\"#0d0887\"],[0.1111111111111111,\"#46039f\"],[0.2222222222222222,\"#7201a8\"],[0.3333333333333333,\"#9c179e\"],[0.4444444444444444,\"#bd3786\"],[0.5555555555555556,\"#d8576b\"],[0.6666666666666666,\"#ed7953\"],[0.7777777777777778,\"#fb9f3a\"],[0.8888888888888888,\"#fdca26\"],[1.0,\"#f0f921\"]],\"sequentialminus\":[[0.0,\"#0d0887\"],[0.1111111111111111,\"#46039f\"],[0.2222222222222222,\"#7201a8\"],[0.3333333333333333,\"#9c179e\"],[0.4444444444444444,\"#bd3786\"],[0.5555555555555556,\"#d8576b\"],[0.6666666666666666,\"#ed7953\"],[0.7777777777777778,\"#fb9f3a\"],[0.8888888888888888,\"#fdca26\"],[1.0,\"#f0f921\"]],\"diverging\":[[0,\"#8e0152\"],[0.1,\"#c51b7d\"],[0.2,\"#de77ae\"],[0.3,\"#f1b6da\"],[0.4,\"#fde0ef\"],[0.5,\"#f7f7f7\"],[0.6,\"#e6f5d0\"],[0.7,\"#b8e186\"],[0.8,\"#7fbc41\"],[0.9,\"#4d9221\"],[1,\"#276419\"]]},\"xaxis\":{\"gridcolor\":\"white\",\"linecolor\":\"white\",\"ticks\":\"\",\"title\":{\"standoff\":15},\"zerolinecolor\":\"white\",\"automargin\":true,\"zerolinewidth\":2},\"yaxis\":{\"gridcolor\":\"white\",\"linecolor\":\"white\",\"ticks\":\"\",\"title\":{\"standoff\":15},\"zerolinecolor\":\"white\",\"automargin\":true,\"zerolinewidth\":2},\"scene\":{\"xaxis\":{\"backgroundcolor\":\"#E5ECF6\",\"gridcolor\":\"white\",\"linecolor\":\"white\",\"showbackground\":true,\"ticks\":\"\",\"zerolinecolor\":\"white\",\"gridwidth\":2},\"yaxis\":{\"backgroundcolor\":\"#E5ECF6\",\"gridcolor\":\"white\",\"linecolor\":\"white\",\"showbackground\":true,\"ticks\":\"\",\"zerolinecolor\":\"white\",\"gridwidth\":2},\"zaxis\":{\"backgroundcolor\":\"#E5ECF6\",\"gridcolor\":\"white\",\"linecolor\":\"white\",\"showbackground\":true,\"ticks\":\"\",\"zerolinecolor\":\"white\",\"gridwidth\":2}},\"shapedefaults\":{\"line\":{\"color\":\"#2a3f5f\"}},\"annotationdefaults\":{\"arrowcolor\":\"#2a3f5f\",\"arrowhead\":0,\"arrowwidth\":1},\"geo\":{\"bgcolor\":\"white\",\"landcolor\":\"#E5ECF6\",\"subunitcolor\":\"white\",\"showland\":true,\"showlakes\":true,\"lakecolor\":\"white\"},\"title\":{\"x\":0.05},\"mapbox\":{\"style\":\"light\"}}},\"title\":{\"text\":\"\"},\"scene\":{\"xaxis\":{\"title\":{\"text\":\"dim 1\"}},\"yaxis\":{\"title\":{\"text\":\"dim 2\"}},\"zaxis\":{\"title\":{\"text\":\"dim 3\"}}}},                        {\"responsive\": true}                    ).then(function(){\n",
       "                            \n",
       "var gd = document.getElementById('d92e1b5f-d12f-4b41-9b89-be8ae0e5132a');\n",
       "var x = new MutationObserver(function (mutations, observer) {{\n",
       "        var display = window.getComputedStyle(gd).display;\n",
       "        if (!display || display === 'none') {{\n",
       "            console.log([gd, 'removed!']);\n",
       "            Plotly.purge(gd);\n",
       "            observer.disconnect();\n",
       "        }}\n",
       "}});\n",
       "\n",
       "// Listen for the removal of the full notebook cells\n",
       "var notebookContainer = gd.closest('#notebook-container');\n",
       "if (notebookContainer) {{\n",
       "    x.observe(notebookContainer, {childList: true});\n",
       "}}\n",
       "\n",
       "// Listen for the clearing of the current output cell\n",
       "var outputEl = gd.closest('.output');\n",
       "if (outputEl) {{\n",
       "    x.observe(outputEl, {childList: true});\n",
       "}}\n",
       "\n",
       "                        })                };                });            </script>        </div>"
      ]
     },
     "metadata": {},
     "output_type": "display_data"
    }
   ],
   "source": [
    "plotly_scatter(pred_vs[1:2, :].flatten(0, 1).cpu().numpy(), colors=None, title=\"\")"
   ]
  },
  {
   "cell_type": "code",
   "execution_count": null,
   "metadata": {},
   "outputs": [],
   "source": []
  },
  {
   "cell_type": "code",
   "execution_count": null,
   "metadata": {},
   "outputs": [],
   "source": [
    "import torch\n",
    "import torch.nn as nn\n",
    "import torch.nn.functional as F\n",
    "\n",
    "\n",
    "class ConvLSTMCell(nn.Module):\n",
    "    def __init__(self, input_dim, hidden_dim, kernel_size, bias):\n",
    "        \"\"\"\n",
    "        Initialize ConvLSTM cell.\n",
    "        \"\"\"\n",
    "        super(ConvLSTMCell, self).__init__()\n",
    "\n",
    "        self.input_dim = input_dim\n",
    "        self.hidden_dim = hidden_dim\n",
    "\n",
    "        self.kernel_size = kernel_size\n",
    "        self.padding = kernel_size // 2\n",
    "        self.bias = bias\n",
    "\n",
    "        self.conv = nn.Conv2d(in_channels=self.input_dim + self.hidden_dim,\n",
    "                              out_channels=4 * self.hidden_dim,\n",
    "                              kernel_size=self.kernel_size,\n",
    "                              padding=self.padding,\n",
    "                              bias=self.bias)\n",
    "\n",
    "    def forward(self, input_tensor, cur_state):\n",
    "        h_cur, c_cur = cur_state\n",
    "\n",
    "        combined = torch.cat([input_tensor, h_cur], dim=1)  # concatenate along channel axis\n",
    "\n",
    "        combined_conv = self.conv(combined)\n",
    "        cc_i, cc_f, cc_o, cc_g = torch.split(combined_conv, self.hidden_dim, dim=1)\n",
    "        i = torch.sigmoid(cc_i)\n",
    "        f = torch.sigmoid(cc_f)\n",
    "        o = torch.sigmoid(cc_o)\n",
    "        g = torch.tanh(cc_g)\n",
    "\n",
    "        c_next = f * c_cur + i * g\n",
    "        h_next = o * torch.tanh(c_next)\n",
    "\n",
    "        return h_next, c_next\n",
    "\n",
    "\n",
    "class Encoder(nn.Module):\n",
    "    def __init__(self, input_dim, hidden_dims):\n",
    "        super(Encoder, self).__init__()\n",
    "        self.conv1 = nn.Conv2d(input_dim, hidden_dims[0], kernel_size=5, stride=1, padding=2)\n",
    "        self.conv2 = nn.Conv2d(hidden_dims[0], hidden_dims[1], kernel_size=3, stride=2, padding=1)\n",
    "        self.conv3 = nn.Conv2d(hidden_dims[1], hidden_dims[2], kernel_size=3, stride=2, padding=1)\n",
    "\n",
    "    def forward(self, x):\n",
    "        x = F.relu(self.conv1(x))\n",
    "        x = F.relu(self.conv2(x))\n",
    "        x = F.relu(self.conv3(x))\n",
    "        return x\n",
    "\n",
    "\n",
    "class Generator(nn.Module):\n",
    "    def __init__(self, input_dim, hidden_dims, num_frames, future_frames, convlstm_kernel_size):\n",
    "        super(Generator, self).__init__()\n",
    "        self.motion_encoder = Encoder(input_dim, hidden_dims)\n",
    "        self.content_encoder = Encoder(input_dim, hidden_dims)\n",
    "        self.convlstm = ConvLSTMCell(input_dim=hidden_dims[-1], hidden_dim=hidden_dims[-1], kernel_size=convlstm_kernel_size, bias=True)\n",
    "        self.num_frames = num_frames\n",
    "        self.future_frames = future_frames\n",
    "\n",
    "        self.decoder = nn.Sequential(\n",
    "            nn.ConvTranspose2d(hidden_dims[-1], hidden_dims[1], kernel_size=4, stride=2, padding=1),\n",
    "            nn.ReLU(True),\n",
    "            nn.ConvTranspose2d(hidden_dims[1], hidden_dims[0], kernel_size=4, stride=2, padding=1),\n",
    "            nn.ReLU(True),\n",
    "            nn.Conv2d(hidden_dims[0], input_dim, kernel_size=3, stride=1, padding=1),\n",
    "            nn.Tanh()\n",
    "        )\n",
    "\n",
    "    def forward(self, x):\n",
    "        seq_len, _, _, _ = x.size()\n",
    "        motion_encoded = self.motion_encoder(x[:self.num_frames-1])\n",
    "        content_encoded = self.content_encoder(x[self.num_frames-1])\n",
    "\n",
    "        h, c = self.convlstm(content_encoded, (motion_encoded, torch.zeros_like(motion_encoded)))\n",
    "\n",
    "        outputs = []\n",
    "        for _ in range(self.future_frames):\n",
    "            h, c = self.convlstm(h, (h, c))\n",
    "            out = self.decoder(h)\n",
    "            outputs.append(out)\n",
    "\n",
    "        outputs = torch.stack(outputs, dim=0)\n",
    "        return outputs\n",
    "\n",
    "\n",
    "# Example usage\n",
    "T, H, W = 20, 64, 64  # Example dimensions for sequence length and frame size\n",
    "input_dim = 1  # Grayscale frames\n",
    "hidden_dims = [64, 128, 256] \n"
   ]
  },
  {
   "cell_type": "code",
   "execution_count": null,
   "metadata": {},
   "outputs": [],
   "source": []
  },
  {
   "cell_type": "code",
   "execution_count": null,
   "metadata": {},
   "outputs": [],
   "source": []
  },
  {
   "cell_type": "code",
   "execution_count": null,
   "metadata": {},
   "outputs": [],
   "source": []
  },
  {
   "cell_type": "code",
   "execution_count": null,
   "metadata": {},
   "outputs": [],
   "source": [
    "config_name = 'freq'\n",
    "config = deepcopy(CONFIGS[config_name])\n",
    "\n",
    "train_dataset, test_dataset, train_loader, test_loader = get_dataset_dataloader(config)"
   ]
  },
  {
   "cell_type": "code",
   "execution_count": null,
   "metadata": {},
   "outputs": [],
   "source": [
    "# assume `frames_tensor` is tensor of Nx12x12 grayscale images\n",
    "\n",
    "def display_video(frames_tensor, fps=10):\n",
    "    num_frames, height, width = frames_tensor.shape\n",
    "\n",
    "    fig = plt.figure(figsize=(width / 20, height / 20))\n",
    "    ax = plt.axes()\n",
    "\n",
    "    # Define the function to update the frame\n",
    "    def update(frame):\n",
    "        ax.imshow(frames_tensor[frame], cmap='gray')#, vmin=0, vmax=1.0)\n",
    "        ax.axis('off')\n",
    "\n",
    "    # Create the animation\n",
    "    anim = animation.FuncAnimation(fig, update, frames=num_frames, interval=1000/fps)\n",
    "\n",
    "    # Display the animation\n",
    "    plt.close()\n",
    "    return HTML(anim.to_jshtml())"
   ]
  },
  {
   "cell_type": "code",
   "execution_count": null,
   "metadata": {},
   "outputs": [],
   "source": [
    "display_video(train_dataset[100][0].squeeze(dim=1))"
   ]
  },
  {
   "cell_type": "code",
   "execution_count": null,
   "metadata": {},
   "outputs": [],
   "source": []
  },
  {
   "cell_type": "code",
   "execution_count": null,
   "metadata": {},
   "outputs": [],
   "source": []
  },
  {
   "cell_type": "code",
   "execution_count": null,
   "metadata": {},
   "outputs": [],
   "source": [
    "# norm_diff = []\n",
    "# norm_diff_normalized = []\n",
    "# cosine_sim = []\n",
    "# ssim = []\n",
    "# norm_vs = []\n",
    "\n",
    "one_two, three_two, one_three, three_one, two_four, four_two = [], [], [], [], [], []\n",
    "one_two_vs, three_two_vs, one_three_vs, three_one_vs, two_four_vs, four_two_vs = [], [], [], [], [], []\n",
    "\n",
    "for data, vs in train_dataset:\n",
    "    i1, i2, i3 = get_i1_i2_i3(data)\n",
    "\n",
    "    i1 = i1.squeeze().flatten(start_dim=1, end_dim=-1)\n",
    "    i2 = i2.squeeze().flatten(start_dim=1, end_dim=-1)\n",
    "    i3 = i3.squeeze().flatten(start_dim=1, end_dim=-1)\n",
    "\n",
    "    i2p = i2[:-1, :]\n",
    "    i4p = i2[1:, :]\n",
    "    \n",
    "    \n",
    "    #norm_diff.append(torch.norm(i1 - i2, dim=-1))\n",
    "    #norm_diff_normalized.append( torch.norm(i1 - i2, dim=-1) / (torch.norm(i1, dim=-1) + torch.norm(i2, dim=-1)) )\n",
    "    one_two.append(cosine_dissim(i1, i2))\n",
    "    one_two_vs.append(vs[::2, :])\n",
    "    # three_two.append(1 - nn.CosineSimilarity(dim=1)(i3, i2))\n",
    "    one_three.append(cosine_dissim(i1, i3))\n",
    "    one_three_vs.append(2*vs[::2, :])\n",
    "    # three_one.append(1 - nn.CosineSimilarity(dim=1)(i3, i1))\n",
    "    # two_four.append(1 - nn.CosineSimilarity(dim=1)(i2p, i4p))\n",
    "    # four_two.append(1 - nn.CosineSimilarity(dim=1)(i4p, i2p))\n",
    "    # ssim.append(1 - SSIM(data_range=1.0, size_average=False, channel=1, nonnegative_ssim=True)(\n",
    "        # i1.view(-1, 1, 32, 12), i2.view(-1, 1, 32, 12)\n",
    "    # ))\n",
    "\n",
    "    # norm_vs.append(vs[::2, :].norm(p=2, dim=-1))\n",
    "    #     \n",
    "\n",
    "# norm_diff = torch.cat(norm_diff).numpy()\n",
    "# norm_diff_normalized = torch.cat(norm_diff_normalized).numpy()\n",
    "one_two = torch.cat(one_two).numpy()\n",
    "one_two_vs = torch.cat(one_two_vs).numpy()\n",
    "# three_two = torch.cat(three_two).numpy()\n",
    "one_three = torch.cat(one_three).numpy()\n",
    "one_three_vs = torch.cat(one_three_vs).numpy()\n",
    "# three_one = torch.cat(three_one).numpy()\n",
    "# two_four = torch.cat(two_four).numpy()\n",
    "# four_two = torch.cat(four_two).numpy()\n",
    "\n",
    "# ssim = torch.cat(ssim).numpy()\n",
    "\n",
    "# norm_vs = torch.cat(norm_vs).numpy()"
   ]
  },
  {
   "cell_type": "code",
   "execution_count": null,
   "metadata": {},
   "outputs": [],
   "source": [
    "scatter = one_two_vs[one_two < 1e-4]\n",
    "# scatter = np.hstack((scatter, np.ones((scatter.shape[0], 1))))\n",
    "\n",
    "plt.scatter(*scatter.T)\n",
    "\n",
    "print(scatter.shape[0] / len(one_two))\n",
    "print(scatter[:, 0].max())"
   ]
  },
  {
   "cell_type": "code",
   "execution_count": null,
   "metadata": {},
   "outputs": [],
   "source": []
  },
  {
   "cell_type": "code",
   "execution_count": null,
   "metadata": {},
   "outputs": [],
   "source": []
  },
  {
   "cell_type": "code",
   "execution_count": null,
   "metadata": {},
   "outputs": [],
   "source": []
  },
  {
   "cell_type": "markdown",
   "metadata": {},
   "source": [
    "### Walking along the manifold of Gaussian blob images"
   ]
  },
  {
   "cell_type": "code",
   "execution_count": null,
   "metadata": {},
   "outputs": [],
   "source": [
    "model = FC_FC(seed=2).cuda()\n",
    "\n",
    "model.load_state_dict(torch.load('./models/model_lzhu4svj.pt'))\n",
    "\n",
    "_ = model.eval()"
   ]
  },
  {
   "cell_type": "code",
   "execution_count": null,
   "metadata": {},
   "outputs": [],
   "source": [
    "train_dataset, test_dataset, train_loader, test_loader = get_dataset_dataloader(CONFIGS['fc_fc_3dim_gauss_loops'])"
   ]
  },
  {
   "cell_type": "code",
   "execution_count": null,
   "metadata": {},
   "outputs": [],
   "source": [
    "steps = 100\n",
    "\n",
    "with torch.no_grad():\n",
    "    rand_ind = torch.randint(0, len(train_dataset), size=(1,)).item()\n",
    "    i1, i2, i3 = get_i1_i2_i3(train_dataset[rand_ind][0])\n",
    "\n",
    "    i1 = i1.cuda()\n",
    "    i2 = i2.cuda()\n",
    "\n",
    "    i1 = convert_range(i1, (i1.min(), i1.max()), (0, 1))\n",
    "    i2 = convert_range(i2, (i2.min(), i2.max()), (0, 1))\n",
    "\n",
    "    rand_ind = torch.randint(0, i1.shape[1], size=(1,)).item()\n",
    "    v, pred_i3 = model(i1[0][rand_ind], i2[0][rand_ind])\n",
    "\n",
    "    pred_i3s = [convert_range(pred_i3, (pred_i3.min(), pred_i3.max()), (0, 1))]\n",
    "\n",
    "    for _ in range(steps):\n",
    "        pred_i3 = model.get_i3(v, pred_i3s[-1])\n",
    "        pred_i3 = convert_range(pred_i3, (pred_i3.min(), pred_i3.max()), (0, 1))\n",
    "        pred_i3s.append(pred_i3)\n",
    "\n",
    "    # for _ in range(steps):\n",
    "    #     pred_i3 = model.get_i3(-v, pred_i3s[-1])\n",
    "    #     pred_i3 = convert_range(pred_i3, (pred_i3.min(), pred_i3.max()), (0, 1))\n",
    "    #     pred_i3s.append(pred_i3)\n",
    "\n",
    "    pred_i3s = torch.stack(pred_i3s).squeeze().cpu()\n",
    "\n",
    "\n",
    "def display_video(frames_tensor, fps=10):\n",
    "    num_frames, height, width = frames_tensor.shape\n",
    "\n",
    "    fig = plt.figure(figsize=(width / 20, height / 20))\n",
    "    ax = plt.axes()\n",
    "\n",
    "    # Define the function to update the frame\n",
    "    def update(frame):\n",
    "        ax.imshow(frames_tensor[frame], cmap='gray', vmin=0, vmax=1.0)\n",
    "        ax.axis('off')\n",
    "\n",
    "    # Create the animation\n",
    "    anim = animation.FuncAnimation(fig, update, frames=num_frames, interval=1000/fps)\n",
    "\n",
    "    # Display the animation\n",
    "    plt.close()\n",
    "    return HTML(anim.to_jshtml())\n",
    "\n",
    "\n",
    "# assume `frames_tensor` is tensor of Nx12x12 grayscale images\n",
    "display_video(pred_i3s, fps=10)"
   ]
  },
  {
   "cell_type": "code",
   "execution_count": null,
   "metadata": {},
   "outputs": [],
   "source": []
  },
  {
   "cell_type": "code",
   "execution_count": null,
   "metadata": {},
   "outputs": [],
   "source": [
    "with torch.no_grad():\n",
    "    rand_ind = torch.randint(0, len(train_dataset), size=(1,)).item()\n",
    "    i1, i2, i3 = get_i1_i2_i3(train_dataset[rand_ind][0])\n",
    "\n",
    "    i1 = i1.cuda()\n",
    "    i2 = i2.cuda()\n",
    "\n",
    "    rand_ind = torch.randint(0, i1.shape[1], size=(1,)).item()\n",
    "    v, pred_i3 = model(i1[0][rand_ind], i2[0][rand_ind])\n",
    "\n",
    "    pred_vs = [v]\n",
    "    i1s = [i2[0][rand_ind]]\n",
    "    i2s = [pred_i3]\n",
    "\n",
    "    for _ in range(100):\n",
    "        v, pred_i3 = model(i1s[-1], i2s[-1])\n",
    "\n",
    "        i1s.append(i2s[-1])\n",
    "        i2s.append(pred_i3)\n",
    "        pred_vs.append(v)\n",
    "\n",
    "\n",
    "    i2s = torch.stack(i2s).squeeze().cpu()\n",
    "\n",
    "\n",
    "def display_video(frames_tensor, fps=10):\n",
    "    num_frames, height, width = frames_tensor.shape\n",
    "\n",
    "    fig = plt.figure(figsize=(width / 20, height / 20))\n",
    "    ax = plt.axes()\n",
    "\n",
    "    # Define the function to update the frame\n",
    "    def update(frame):\n",
    "        ax.imshow(frames_tensor[frame], cmap='gray', vmin=0, vmax=1.0)\n",
    "        ax.axis('off')\n",
    "\n",
    "    # Create the animation\n",
    "    anim = animation.FuncAnimation(fig, update, frames=num_frames, interval=1000/fps)\n",
    "\n",
    "    # Display the animation\n",
    "    plt.close()\n",
    "    return HTML(anim.to_jshtml())\n",
    "\n",
    "\n",
    "# assume `frames_tensor` is tensor of Nx12x12 grayscale images\n",
    "display_video(pred_i3s, fps=10)"
   ]
  },
  {
   "cell_type": "code",
   "execution_count": null,
   "metadata": {},
   "outputs": [],
   "source": [
    "plt.plot(*torch.stack(pred_vs).squeeze().cpu().numpy().T)"
   ]
  },
  {
   "cell_type": "code",
   "execution_count": null,
   "metadata": {},
   "outputs": [],
   "source": []
  },
  {
   "cell_type": "code",
   "execution_count": null,
   "metadata": {},
   "outputs": [],
   "source": []
  },
  {
   "cell_type": "code",
   "execution_count": null,
   "metadata": {},
   "outputs": [],
   "source": []
  }
 ],
 "metadata": {
  "kernelspec": {
   "display_name": "gcpc_velocity",
   "language": "python",
   "name": "python3"
  },
  "language_info": {
   "codemirror_mode": {
    "name": "ipython",
    "version": 3
   },
   "file_extension": ".py",
   "mimetype": "text/x-python",
   "name": "python",
   "nbconvert_exporter": "python",
   "pygments_lexer": "ipython3",
   "version": "3.9.13"
  },
  "orig_nbformat": 4
 },
 "nbformat": 4,
 "nbformat_minor": 2
}
